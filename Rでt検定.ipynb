{
  "nbformat": 4,
  "nbformat_minor": 0,
  "metadata": {
    "kernelspec": {
      "display_name": "R",
      "language": "R",
      "name": "ir"
    },
    "language_info": {
      "codemirror_mode": "r",
      "file_extension": ".r",
      "mimetype": "text/x-r-source",
      "name": "R",
      "pygments_lexer": "r",
      "version": "3.6.3"
    },
    "colab": {
      "provenance": [],
      "include_colab_link": true
    }
  },
  "cells": [
    {
      "cell_type": "markdown",
      "metadata": {
        "id": "view-in-github",
        "colab_type": "text"
      },
      "source": [
        "<a href=\"https://colab.research.google.com/github/tomonabe/PK/blob/main/R%E3%81%A7t%E6%A4%9C%E5%AE%9A.ipynb\" target=\"_parent\"><img src=\"https://colab.research.google.com/assets/colab-badge.svg\" alt=\"Open In Colab\"/></a>"
      ]
    },
    {
      "cell_type": "code",
      "source": [
        "# Rでt検定\n",
        "# 10,20,30,40,50の数字を書き換えてください\n",
        "\n",
        "x <- c(10, 20, 30, 40, 50)"
      ],
      "metadata": {
        "id": "pUj1w3K-LAWo"
      },
      "execution_count": 53,
      "outputs": []
    },
    {
      "cell_type": "code",
      "source": [
        "# 40,50,60,70,80の数字を書き換えてください\n",
        "\n",
        "y <- c(40, 50, 60, 70, 80)"
      ],
      "metadata": {
        "id": "EzGphz-364tS"
      },
      "execution_count": 54,
      "outputs": []
    },
    {
      "cell_type": "code",
      "source": [
        "# それぞれの平均と標準偏差を表示します\n",
        "\n",
        "mean (x)\n",
        "sd(x)\n",
        "mean(y)\n",
        "sd(y)"
      ],
      "metadata": {
        "id": "HOm6rwxM667L",
        "outputId": "c14327bf-ff36-4543-9cb1-87652546424a",
        "colab": {
          "base_uri": "https://localhost:8080/",
          "height": 85
        }
      },
      "execution_count": 55,
      "outputs": [
        {
          "output_type": "display_data",
          "data": {
            "text/html": [
              "30"
            ],
            "text/markdown": "30",
            "text/latex": "30",
            "text/plain": [
              "[1] 30"
            ]
          },
          "metadata": {}
        },
        {
          "output_type": "display_data",
          "data": {
            "text/html": [
              "15.8113883008419"
            ],
            "text/markdown": "15.8113883008419",
            "text/latex": "15.8113883008419",
            "text/plain": [
              "[1] 15.81139"
            ]
          },
          "metadata": {}
        },
        {
          "output_type": "display_data",
          "data": {
            "text/html": [
              "60"
            ],
            "text/markdown": "60",
            "text/latex": "60",
            "text/plain": [
              "[1] 60"
            ]
          },
          "metadata": {}
        },
        {
          "output_type": "display_data",
          "data": {
            "text/html": [
              "15.8113883008419"
            ],
            "text/markdown": "15.8113883008419",
            "text/latex": "15.8113883008419",
            "text/plain": [
              "[1] 15.81139"
            ]
          },
          "metadata": {}
        }
      ]
    },
    {
      "cell_type": "code",
      "source": [
        "# t検定を行います\n",
        "\n",
        "t.test(x, y)"
      ],
      "metadata": {
        "colab": {
          "base_uri": "https://localhost:8080/",
          "height": 204
        },
        "id": "uE3LSj2R973T",
        "outputId": "caa09032-4458-41c2-f9f1-790bac1f76fd"
      },
      "execution_count": 56,
      "outputs": [
        {
          "output_type": "display_data",
          "data": {
            "text/plain": [
              "\n",
              "\tWelch Two Sample t-test\n",
              "\n",
              "data:  x and y\n",
              "t = -3, df = 8, p-value = 0.01707\n",
              "alternative hypothesis: true difference in means is not equal to 0\n",
              "95 percent confidence interval:\n",
              " -53.060041  -6.939959\n",
              "sample estimates:\n",
              "mean of x mean of y \n",
              "       30        60 \n"
            ]
          },
          "metadata": {}
        }
      ]
    },
    {
      "cell_type": "code",
      "source": [
        "# ATPの結果\n",
        "\n",
        "x <- c(100, 100, 100, 100)\n",
        "y <- c(83.8998, 81.7114, 87.3822, 85.3472)"
      ],
      "metadata": {
        "id": "xJU45Yds-NAq"
      },
      "execution_count": 57,
      "outputs": []
    },
    {
      "cell_type": "code",
      "source": [
        "# それぞれの平均と標準偏差を表示します\n",
        "\n",
        "mean (x)\n",
        "sd(x)\n",
        "mean(y)\n",
        "sd(y)"
      ],
      "metadata": {
        "colab": {
          "base_uri": "https://localhost:8080/",
          "height": 85
        },
        "id": "Pxw1OuM4_DBr",
        "outputId": "b3e4a0b1-55f4-4655-dd8d-c5fa069376ea"
      },
      "execution_count": 58,
      "outputs": [
        {
          "output_type": "display_data",
          "data": {
            "text/html": [
              "100"
            ],
            "text/markdown": "100",
            "text/latex": "100",
            "text/plain": [
              "[1] 100"
            ]
          },
          "metadata": {}
        },
        {
          "output_type": "display_data",
          "data": {
            "text/html": [
              "0"
            ],
            "text/markdown": "0",
            "text/latex": "0",
            "text/plain": [
              "[1] 0"
            ]
          },
          "metadata": {}
        },
        {
          "output_type": "display_data",
          "data": {
            "text/html": [
              "84.58515"
            ],
            "text/markdown": "84.58515",
            "text/latex": "84.58515",
            "text/plain": [
              "[1] 84.58515"
            ]
          },
          "metadata": {}
        },
        {
          "output_type": "display_data",
          "data": {
            "text/html": [
              "2.38972471148178"
            ],
            "text/markdown": "2.38972471148178",
            "text/latex": "2.38972471148178",
            "text/plain": [
              "[1] 2.389725"
            ]
          },
          "metadata": {}
        }
      ]
    },
    {
      "cell_type": "code",
      "source": [
        "# t検定を行います\n",
        "# p<0.01　なので有意差があります\n",
        "\n",
        "t.test(x, y)"
      ],
      "metadata": {
        "colab": {
          "base_uri": "https://localhost:8080/",
          "height": 204
        },
        "id": "Urq0osio_McC",
        "outputId": "eeb103ce-f029-4fb0-9e47-608fbe4cc280"
      },
      "execution_count": 59,
      "outputs": [
        {
          "output_type": "display_data",
          "data": {
            "text/plain": [
              "\n",
              "\tWelch Two Sample t-test\n",
              "\n",
              "data:  x and y\n",
              "t = 12.901, df = 3, p-value = 0.001005\n",
              "alternative hypothesis: true difference in means is not equal to 0\n",
              "95 percent confidence interval:\n",
              " 11.61226 19.21744\n",
              "sample estimates:\n",
              "mean of x mean of y \n",
              "100.00000  84.58515 \n"
            ]
          },
          "metadata": {}
        }
      ]
    }
  ]
}